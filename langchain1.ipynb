{
 "cells": [
  {
   "cell_type": "code",
   "execution_count": null,
   "id": "c82e0968-2f75-46b4-83f3-0cae9c32f99f",
   "metadata": {
    "scrolled": true
   },
   "outputs": [],
   "source": [
    "pip install langchain"
   ]
  },
  {
   "cell_type": "code",
   "execution_count": null,
   "id": "47aaa16e-0faf-4430-bde7-1814ffe6dbad",
   "metadata": {},
   "outputs": [],
   "source": [
    "pip install Flask"
   ]
  },
  {
   "cell_type": "code",
   "execution_count": null,
   "id": "4ba1f2d8-8aa8-470a-8538-8c46ffc16b4e",
   "metadata": {},
   "outputs": [],
   "source": [
    "from langchain.document_loaders import WebBaseLoader\n",
    "from langchain.embeddings import OpenAIEmbeddings\n",
    "from langchain.vectorstores import FAISS"
   ]
  },
  {
   "cell_type": "code",
   "execution_count": null,
   "id": "ab218b80-1f40-45e1-9a8c-c82cb013460d",
   "metadata": {},
   "outputs": [],
   "source": [
    "loader = WebBaseLoader(\"https://brainlox.com//courses//category//technical\")"
   ]
  },
  {
   "cell_type": "code",
   "execution_count": null,
   "id": "b2a32a08-c6e2-445c-bb82-1472eeaa0b2d",
   "metadata": {},
   "outputs": [],
   "source": [
    "documents=loader.load()"
   ]
  },
  {
   "cell_type": "code",
   "execution_count": null,
   "id": "75cce43c-982c-4a96-bc65-4fe0df177c12",
   "metadata": {},
   "outputs": [],
   "source": [
    "import openai"
   ]
  },
  {
   "cell_type": "code",
   "execution_count": null,
   "id": "d15818d3-fcfa-4f0f-b8d6-278fcacda8f7",
   "metadata": {
    "scrolled": true
   },
   "outputs": [],
   "source": [
    "pip install tiktoken"
   ]
  },
  {
   "cell_type": "code",
   "execution_count": null,
   "id": "aa509a99-3890-423a-a0a9-cf46dee45185",
   "metadata": {},
   "outputs": [],
   "source": [
    "api_key=open(\"api.txt\")"
   ]
  },
  {
   "cell_type": "raw",
   "id": "48911523-7f84-479f-bf31-3e948fc5ade2",
   "metadata": {
    "collapsed": true,
    "jupyter": {
     "outputs_hidden": true
    }
   },
   "source": [
    "pip install -qU langchain-openai"
   ]
  },
  {
   "cell_type": "code",
   "execution_count": null,
   "id": "8a172f0e-fff2-465c-bb03-425b97258544",
   "metadata": {},
   "outputs": [],
   "source": [
    "embeddings = OpenAIEmbeddings(openai_api_key=api_key)\n",
    "vector_store=FAISS.from_documents(documents,embiddings)\n",
    "vector_store.save_local(\"vector_store\")"
   ]
  },
  {
   "cell_type": "code",
   "execution_count": null,
   "id": "3c53db4c-94ea-4861-ae7a-83d4b5d4b507",
   "metadata": {},
   "outputs": [],
   "source": [
    "from flask import Flask,request,jsonify\n",
    "from langchain.chains import ConversationalRetrievalChain"
   ]
  },
  {
   "cell_type": "code",
   "execution_count": null,
   "id": "d769d2a9-42a2-4eae-ac49-e67c59405674",
   "metadata": {},
   "outputs": [],
   "source": [
    "app=Flask(__name__)\n",
    "vector_store=FAISS.load_local(\"vector_store\",embeddings,bool=False)"
   ]
  },
  {
   "cell_type": "code",
   "execution_count": null,
   "id": "5dea37a9-eea7-458e-9eaa-b2121505e66e",
   "metadata": {},
   "outputs": [],
   "source": [
    "chain = ConversationalRetrievalChain.from_llm(\n",
    "    llm=OpenAIEmbeddings(openai_api_key=api_key),\n",
    "    retriever = vector_store.as_retriver()\n",
    ")"
   ]
  },
  {
   "cell_type": "code",
   "execution_count": null,
   "id": "b7a498aa-6266-45d9-97d0-0d747ad2e600",
   "metadata": {},
   "outputs": [],
   "source": [
    "@app.route(\"/chat\",methods=[\"POST\"])\n",
    "def chat():\n",
    "    user_input=request.json.get(\"message\")\n",
    "    response=chain.run(user_input)\n",
    "    return jsonify({\"response\":response})\n",
    "\n",
    "if __name__ == \"__main__\":\n",
    "    app.run(port=5000)"
   ]
  },
  {
   "cell_type": "code",
   "execution_count": null,
   "id": "701b6b7e-694c-4b9a-b90d-11b531ef859f",
   "metadata": {},
   "outputs": [],
   "source": []
  },
  {
   "cell_type": "code",
   "execution_count": null,
   "id": "233991e0-2c9e-4dc8-84d8-ac01702d4bc1",
   "metadata": {},
   "outputs": [],
   "source": []
  }
 ],
 "metadata": {
  "kernelspec": {
   "display_name": "Python 3 (ipykernel)",
   "language": "python",
   "name": "python3"
  },
  "language_info": {
   "codemirror_mode": {
    "name": "ipython",
    "version": 3
   },
   "file_extension": ".py",
   "mimetype": "text/x-python",
   "name": "python",
   "nbconvert_exporter": "python",
   "pygments_lexer": "ipython3",
   "version": "3.12.4"
  }
 },
 "nbformat": 4,
 "nbformat_minor": 5
}
